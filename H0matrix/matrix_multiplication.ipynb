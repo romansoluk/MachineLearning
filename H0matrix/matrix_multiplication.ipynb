{
 "cells": [
  {
   "cell_type": "code",
   "execution_count": 1,
   "metadata": {},
   "outputs": [],
   "source": [
    "import time\n",
    "import numpy as np"
   ]
  },
  {
   "cell_type": "code",
   "execution_count": 5,
   "metadata": {},
   "outputs": [
    {
     "name": "stdout",
     "output_type": "stream",
     "text": [
      "1.2267177104949951 seconds \n",
      "0.000997304916381836 seconds\n",
      "[[ 3 14 13 ... 13 19 18]\n",
      " [19  8 18 ...  5 10 17]\n",
      " [13  3 12 ...  7 12 14]\n",
      " ...\n",
      " [12 16  1 ... 12 11 13]\n",
      " [17 11 19 ...  9 15  2]\n",
      " [ 6  0  8 ...  3 12 17]]\n",
      "[[15  4 17 ... 19  1 17]\n",
      " [ 2  2  3 ... 18 15 17]\n",
      " [ 1  0  5 ... 13  0 12]\n",
      " ...\n",
      " [ 1 18  3 ... 18  4 19]\n",
      " [11  7  9 ... 16  2  1]\n",
      " [ 0  5  0 ...  6 11 15]]\n",
      "[[12195.  9835. 10340. ... 11037. 11147. 10773.]\n",
      " [10694.  8812.  9002. ...  9394. 10007.  9642.]\n",
      " [12152. 10739. 10248. ... 10335. 11306. 10376.]\n",
      " ...\n",
      " [10120.  8737.  8711. ...  9544. 10569.  8640.]\n",
      " [10777.  9565.  9818. ... 10596. 11331.  9451.]\n",
      " [10411.  8960.  8514. ...  8744.  8651.  8596.]]\n"
     ]
    }
   ],
   "source": [
    "G = np.random.randint(20, size=(100,100))\n",
    "H = np.random.randint(20, size=(100,100))\n",
    "a = len(G)\n",
    "d = int(a/2)\n",
    "row_factor=np.zeros(a)\n",
    "column_factor = np.zeros(a)\n",
    "R = np.zeros((a,a))\n",
    "my_start_time = time.time()\n",
    "\n",
    "for i in range(a):\n",
    "    row_factor[i] = G[i][0] * G[i][1]\n",
    "    for j in range(1, d):\n",
    "        row_factor[i] += G[i][2*j - 1] * G[i][2*j]\n",
    "for i in range(a):\n",
    "    column_factor[i] = H[0][i] * H[1][i]\n",
    "    for j in range(1,d):\n",
    "        column_factor[i] += H[2*j - 1][i] * H[2*j][i]\n",
    "for i in range(a):\n",
    "    for j in range(a):\n",
    "        R[i][j] = -(row_factor[i] + column_factor[j])\n",
    "        for k in range(d):\n",
    "            R[i][j] += (G[i][2*k-1]+H[2*k][j])*(G[i][2*k] + H[2*k-1][j])            \n",
    "if (2 * (a/2)!= a):\n",
    "    for i in range(a):\n",
    "        for j in range(a):\n",
    "            R[i][j] += G[i][b] * H[b][j]\n",
    "print(\"%s seconds \" % (time.time() - my_start_time))\n",
    "dot_start_time = time.time()\n",
    "\n",
    "RR = np.dot(G,H)\n",
    "print(\"%s seconds\" % (time.time() - dot_start_time))\n",
    "\n",
    "print(G)\n",
    "print(H)\n",
    "print(R)"
   ]
  }
 ],
 "metadata": {
  "kernelspec": {
   "display_name": "Python 3",
   "language": "python",
   "name": "python3"
  },
  "language_info": {
   "codemirror_mode": {
    "name": "ipython",
    "version": 3
   },
   "file_extension": ".py",
   "mimetype": "text/x-python",
   "name": "python",
   "nbconvert_exporter": "python",
   "pygments_lexer": "ipython3",
   "version": "3.8.5"
  }
 },
 "nbformat": 4,
 "nbformat_minor": 4
}

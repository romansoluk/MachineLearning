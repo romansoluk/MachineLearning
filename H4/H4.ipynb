{
 "cells": [
  {
   "cell_type": "code",
   "execution_count": 1,
   "metadata": {},
   "outputs": [],
   "source": [
    "import numpy as np\n",
    "import pandas as pd\n",
    "from sklearn.model_selection import train_test_split\n",
    "from mpl_toolkits.mplot3d import Axes3D\n",
    "import matplotlib.pyplot as plt\n",
    "from matplotlib.colors import ListedColormap\n",
    "cm_bright = ListedColormap(['#FF0000', '#0000FF'])\n",
    "get_ipython().run_line_magic('matplotlib', 'inline')\n",
    "from sklearn.metrics import accuracy_score\n",
    "\n",
    "import sklearn.linear_model"
   ]
  },
  {
   "cell_type": "code",
   "execution_count": 2,
   "metadata": {},
   "outputs": [],
   "source": [
    "def plot_surface(cls, x_1, x_2, ax=None, threshold=0.5, contourf=False):\n",
    "    xx1, xx2 = np.meshgrid(np.linspace(x_1.min(), x_1.max(), 100), \n",
    "                           np.linspace(x_2.min(), x_2.max(), 100))\n",
    "\n",
    "    X_pred = np.c_[xx1.ravel(), xx2.ravel()]\n",
    "    pred = cls.predict_proba(X_pred)[:, 0]\n",
    "    Z = pred.reshape((100, 100))\n",
    "    if ax is None:\n",
    "        ax = plt.gca()\n",
    "    ax.contour(xx1, xx2, Z, levels=[threshold], colors='black')\n",
    "    ax.set_xlim((x_1.min(), x_1.max()))\n",
    "    ax.set_ylim((x_2.min(), x_2.max()))"
   ]
  },
  {
   "cell_type": "code",
   "execution_count": 3,
   "metadata": {},
   "outputs": [],
   "source": [
    "def plot_data(X, y):\n",
    "    ax = plt.gca()\n",
    "    ax.scatter(X[:,0], X[:,1], c=(y == 1), cmap=cm_bright)"
   ]
  },
  {
   "cell_type": "code",
   "execution_count": 4,
   "metadata": {},
   "outputs": [],
   "source": [
    "class NeuralNet:\n",
    "\n",
    "    def __init__(self, normalize = True, learning_rate = 0.01, num_iter = 30000,num_node=[20,1],accuracy=0.00001):\n",
    "        self.learning_rate = learning_rate\n",
    "        self.num_iter = num_iter\n",
    "        self.normalize = normalize\n",
    "        self.num_layer=len(num_node)\n",
    "        self.num_node=num_node\n",
    "        self.accuracy=accuracy\n",
    "        self.W=None\n",
    "        self.b=None\n",
    "        self.Z=None\n",
    "        self.A=None\n",
    "        self.dW=None\n",
    "        self.db=None\n",
    "        self.dZ=None\n",
    "        self.dA=None\n",
    "    \n",
    "    def __normalize(self, X, mean = None, std = None):\n",
    "    \n",
    "        n = X.shape[0]\n",
    "        m = mean\n",
    "        if m is None:\n",
    "            m = np.mean(X, axis=1).reshape((n, 1))\n",
    "        s = std\n",
    "        if s is None:\n",
    "            s = np.std(X, axis=1).reshape((n, 1))\n",
    "        X_new = (X - m) / s**2\n",
    "        return X_new, m, s\n",
    "\n",
    "    def __sigmoid(self, Z):\n",
    "\n",
    "        return 1 / (1 + np.exp(-Z))\n",
    "    \n",
    "    \n",
    "    def __softmax(self, Z):\n",
    "        return np.exp(Z) / np.sum(np.exp(Z)) \n",
    "    \n",
    "    def __initialize_parameters(self, n_x):\n",
    "        \n",
    "        \n",
    "        self.W=[]\n",
    "        self.W.append(list(np.random.randn(self.num_node[0], n_x)/np.sqrt(n_x)))\n",
    "        self.b=[np.zeros((self.num_node[i], 1)) for i in range(self.num_layer)]\n",
    "        self.W=self.W+[list((np.random.randn(self.num_node[i],self.num_node[i-1])/\n",
    "                             np.sqrt(self.num_node[i-1]))) for i in range(1,self.num_layer)]\n",
    "\n",
    "       \n",
    "    def __forward_propagation(self, X):\n",
    "\n",
    "        self.Z=[]\n",
    "        self.A=[]\n",
    "        self.Z.append(np.dot(self.W[0], X) + self.b[0])\n",
    "        self.A.append(self.__sigmoid(self.Z[0]))\n",
    "\n",
    "        for i in range(1,len(self.W)-1):\n",
    "            self.Z.append(np.dot(self.W[i], self.A[i-1]) + self.b[i])\n",
    "            self.A.append(self.__softmax(self.Z[i]))\n",
    "            \n",
    "        self.Z.append(np.dot(self.W[-1], self.A[-1]) + self.b[-1])\n",
    "        self.A.append(self.__sigmoid(self.Z[-1]))\n",
    "        \n",
    "        return self.A[-1]\n",
    "    \n",
    "    def compute_cost(self, A, Y):\n",
    "        J = -np.mean(Y.T * np.log(A.T+ 1e-8))\n",
    "        return J\n",
    "        \n",
    "    def __backward_propagation(self, X, Y):\n",
    "        m = X.shape[1]\n",
    "        n = X.shape[0]\n",
    "        W, b,Z, A=self.W,self.b,self.Z,self.A\n",
    "\n",
    "      \n",
    "        self.dW,self.db,self.dZ,self.dA=[],[],[],[]\n",
    "        self.dZ.append(A[-1] - Y)\n",
    "        self.dW.append(1. / m * np.dot(self.dZ[-1], A[-2].T))\n",
    "        self.db.append(1. / m * np.sum(self.dZ[-1], axis = 1, keepdims = True))\n",
    "        self.dA.append(np.dot(np.array(W[-1]).T, self.dZ[-1]))       \n",
    "\n",
    "\n",
    "            \n",
    "\n",
    "        for i in range(self.num_layer-1):\n",
    "            self.dZ.append(np.multiply(self.dA[i], np.multiply(A[self.num_layer-2-i], 1 - A[self.num_layer-2-i])))\n",
    "            if(self.num_layer-3-i>=0):\n",
    "                self.dW.append( 1. / m * np.dot(self.dZ[i+1], A[self.num_layer-3-i].T))\n",
    "            else:\n",
    "                self.dW.append( 1. / m * np.dot(self.dZ[i+1], X.T))\n",
    "            self.db.append( 1. / m * np.sum(self.dZ[i+1], axis = 1, keepdims = True))\n",
    "            self.dA.append(np.dot(np.array(W[self.num_layer-2-i]).T, self.dZ[i+1]))\n",
    "       \n",
    "        self.dW.reverse()\n",
    "        self.db.reverse()\n",
    "        self.dZ.reverse()\n",
    "        self.dA.reverse()\n",
    "\n",
    "    \n",
    "    def __update_parameters(self):\n",
    "        \n",
    "        for i in range(self.num_layer):\n",
    "            self.W[i] = self.W[i] - self.learning_rate * self.dW[i]\n",
    "            self.b[i] = self.b[i] - self.learning_rate * self.db[i]\n",
    "\n",
    "        \n",
    "    def fit(self, X_vert, Y_vert, print_cost = True):\n",
    "        \n",
    "        X, Y = X_vert.T, Y_vert.T\n",
    "        \n",
    "        if self.normalize:\n",
    "            X, self.__mean, self.__std = self.__normalize(X)\n",
    "        \n",
    "        costs = []\n",
    "        check = []\n",
    "        m = X.shape[1]\n",
    "        n_x = X.shape[0]\n",
    "        \n",
    "        self.__initialize_parameters(n_x)\n",
    " \n",
    "        for i in range(self.num_iter):\n",
    "            A = self.__forward_propagation(X)\n",
    "\n",
    "            cost = self.compute_cost(A, Y)\n",
    "            self.__backward_propagation(X, Y)\n",
    "\n",
    "            self.__update_parameters()\n",
    "        \n",
    "            check.append(cost)\n",
    "            if print_cost and i % 1000 == 0:\n",
    "                print(\"{}-th iteration: {}\".format(i, cost))\n",
    "\n",
    "            if i % 10 == 0:\n",
    "                costs.append(cost)\n",
    "                \n",
    "            if(len(check)>2 and abs(check[i]-check[i-1])<self.accuracy):\n",
    "                break\n",
    "\n",
    "        if print_cost:\n",
    "            plt.plot(costs)\n",
    "            plt.ylabel(\"Cost\")\n",
    "            plt.xlabel(\"Iteration, *1000\")\n",
    "            plt.show()\n",
    "    \n",
    "    def predict_proba(self, X_vert):\n",
    "        X = X_vert.T\n",
    "        if self.normalize:\n",
    "            X, _, _ = self.__normalize(X, self.__mean, self.__std)\n",
    "        \n",
    "        probs = self.__forward_propagation(X)[0]\n",
    "        \n",
    "        return np.column_stack((probs.T, 1 - probs.T))\n",
    "    \n",
    "    def predict(self, X_vert):\n",
    "        positive_probs = self.predict_proba(X_vert)[:, 0]\n",
    "        return (positive_probs >= 0.5).astype(int)   "
   ]
  },
  {
   "cell_type": "code",
   "execution_count": 5,
   "metadata": {},
   "outputs": [],
   "source": [
    "cls = NeuralNet(normalize = True, \n",
    "                learning_rate = 0.5, \n",
    "                num_iter = 3000,\n",
    "                num_node=[8,15,],\n",
    "                accuracy=1e-10)"
   ]
  },
  {
   "cell_type": "code",
   "execution_count": 6,
   "metadata": {},
   "outputs": [
    {
     "name": "stdout",
     "output_type": "stream",
     "text": [
      "Training set: X=(100, 2), y=(100,)\n"
     ]
    }
   ],
   "source": [
    "data_columns = [\"exam1\", \"exam2\"]\n",
    "target_column = \"submitted\"\n",
    "df = pd.read_csv(\"sats.csv\")\n",
    "X, Y = df[data_columns].values, df[target_column]\n",
    "print('Training set: X={}, y={}'.format(X.shape, Y.shape))"
   ]
  },
  {
   "cell_type": "code",
   "execution_count": 7,
   "metadata": {},
   "outputs": [
    {
     "name": "stdout",
     "output_type": "stream",
     "text": [
      "0-th iteration: 0.36493327601591463\n",
      "1000-th iteration: 0.1816054388981169\n",
      "2000-th iteration: 0.11653823479474647\n"
     ]
    },
    {
     "data": {
      "image/png": "[encoded data removed]",
      "text/plain": [
       "<Figure size 432x288 with 1 Axes>"
      ]
     },
     "metadata": {
      "needs_background": "light"
     },
     "output_type": "display_data"
    }
   ],
   "source": [
    "cls.fit(X, Y.values.reshape((df.shape[0], 1)))\n"
   ]
  },
  {
   "cell_type": "code",
   "execution_count": 8,
   "metadata": {},
   "outputs": [
    {
     "data": {
      "text/plain": [
       "array([[5.66953618e-02, 9.43304638e-01],\n",
       "       [1.45158184e-04, 9.99854842e-01],\n",
       "       [2.74577932e-02, 9.72542207e-01],\n",
       "       [9.80985126e-01, 1.90148739e-02],\n",
       "       [9.93932996e-01, 6.06700437e-03],\n",
       "       [8.26273469e-03, 9.91737265e-01],\n",
       "       [9.95994125e-01, 4.00587479e-03],\n",
       "       [3.91291765e-01, 6.08708235e-01],\n",
       "       [9.97984289e-01, 2.01571076e-03],\n",
       "       [6.94355479e-01, 3.05644521e-01],\n",
       "       [8.73460517e-01, 1.26539483e-01],\n",
       "       [3.02620901e-02, 9.69737910e-01],\n",
       "       [9.96500674e-01, 3.49932644e-03],\n",
       "       [9.98619606e-01, 1.38039391e-03],\n",
       "       [1.06225739e-01, 8.93774261e-01],\n",
       "       [9.67024539e-01, 3.29754609e-02],\n",
       "       [3.88549324e-01, 6.11450676e-01],\n",
       "       [1.33546237e-01, 8.66453763e-01],\n",
       "       [9.98010850e-01, 1.98915010e-03],\n",
       "       [5.35536885e-01, 4.64463115e-01],\n",
       "       [6.11598175e-02, 9.38840183e-01],\n",
       "       [9.94627871e-01, 5.37212903e-03],\n",
       "       [6.41533233e-03, 9.93584668e-01],\n",
       "       [2.36055231e-04, 9.99763945e-01],\n",
       "       [9.82651416e-01, 1.73485842e-02],\n",
       "       [8.15729629e-01, 1.84270371e-01],\n",
       "       [5.62083449e-01, 4.37916551e-01],\n",
       "       [8.25170116e-01, 1.74829884e-01],\n",
       "       [7.90194151e-02, 9.20980585e-01],\n",
       "       [1.13593037e-02, 9.88640696e-01],\n",
       "       [8.63573005e-01, 1.36426995e-01],\n",
       "       [9.65801741e-01, 3.41982590e-02],\n",
       "       [1.20590121e-01, 8.79409879e-01],\n",
       "       [3.25840407e-01, 6.74159593e-01],\n",
       "       [4.91883872e-02, 9.50811613e-01],\n",
       "       [2.67827033e-02, 9.73217297e-01],\n",
       "       [7.82967252e-01, 2.17032748e-01],\n",
       "       [9.76689142e-01, 2.33108578e-02],\n",
       "       [1.90258389e-01, 8.09741611e-01],\n",
       "       [3.03322394e-02, 9.69667761e-01],\n",
       "       [9.51423544e-01, 4.85764565e-02],\n",
       "       [5.51141859e-03, 9.94488581e-01],\n",
       "       [9.96873120e-01, 3.12688035e-03],\n",
       "       [4.70441036e-01, 5.29558964e-01],\n",
       "       [4.20160020e-03, 9.95798400e-01],\n",
       "       [1.17256101e-01, 8.82743899e-01],\n",
       "       [9.84488512e-01, 1.55114879e-02],\n",
       "       [9.99639595e-01, 3.60404825e-04],\n",
       "       [9.96560302e-01, 3.43969830e-03],\n",
       "       [9.99528726e-01, 4.71273673e-04],\n",
       "       [9.93706634e-01, 6.29336616e-03],\n",
       "       [9.96913615e-01, 3.08638465e-03],\n",
       "       [8.70612736e-01, 1.29387264e-01],\n",
       "       [2.25644358e-03, 9.97743556e-01],\n",
       "       [7.22064951e-03, 9.92779350e-01],\n",
       "       [3.94802399e-02, 9.60519760e-01],\n",
       "       [9.98442582e-01, 1.55741849e-03],\n",
       "       [5.85041223e-01, 4.14958777e-01],\n",
       "       [9.73299045e-01, 2.67009546e-02],\n",
       "       [9.89347470e-01, 1.06525300e-02],\n",
       "       [9.97378367e-01, 2.62163284e-03],\n",
       "       [3.77168195e-04, 9.99622832e-01],\n",
       "       [3.70976291e-03, 9.96290237e-01],\n",
       "       [2.57795793e-04, 9.99742204e-01],\n",
       "       [5.02350511e-02, 9.49764949e-01],\n",
       "       [3.80529561e-02, 9.61947044e-01],\n",
       "       [9.13317271e-01, 8.66827285e-02],\n",
       "       [8.22554212e-03, 9.91774458e-01],\n",
       "       [9.99146594e-01, 8.53406483e-04],\n",
       "       [6.62059092e-01, 3.37940908e-01],\n",
       "       [1.79459681e-04, 9.99820540e-01],\n",
       "       [9.62466116e-01, 3.75338839e-02],\n",
       "       [9.98803989e-01, 1.19601107e-03],\n",
       "       [8.48299562e-01, 1.51700438e-01],\n",
       "       [8.72248142e-01, 1.27751858e-01],\n",
       "       [9.99084183e-01, 9.15817445e-04],\n",
       "       [8.81959144e-01, 1.18040856e-01],\n",
       "       [5.53309901e-01, 4.46690099e-01],\n",
       "       [1.46234438e-02, 9.85376556e-01],\n",
       "       [5.61947933e-01, 4.38052067e-01],\n",
       "       [9.96415330e-01, 3.58467007e-03],\n",
       "       [9.53357020e-01, 4.66429801e-02],\n",
       "       [8.62022476e-01, 1.37977524e-01],\n",
       "       [1.67607582e-01, 8.32392418e-01],\n",
       "       [9.99061911e-01, 9.38088732e-04],\n",
       "       [9.93697829e-01, 6.30217132e-03],\n",
       "       [2.70696865e-01, 7.29303135e-01],\n",
       "       [9.98434021e-01, 1.56597894e-03],\n",
       "       [9.99332282e-01, 6.67718198e-04],\n",
       "       [8.26279267e-02, 9.17372073e-01],\n",
       "       [9.99022161e-01, 9.77839434e-04],\n",
       "       [9.99443789e-01, 5.56211006e-04],\n",
       "       [1.79430572e-03, 9.98205694e-01],\n",
       "       [9.96760443e-01, 3.23955662e-03],\n",
       "       [8.93470398e-01, 1.06529602e-01],\n",
       "       [8.21846849e-01, 1.78153151e-01],\n",
       "       [6.73417093e-01, 3.26582907e-01],\n",
       "       [9.98661461e-01, 1.33853867e-03],\n",
       "       [2.84148644e-01, 7.15851356e-01],\n",
       "       [9.98151078e-01, 1.84892200e-03]])"
      ]
     },
     "execution_count": 8,
     "metadata": {},
     "output_type": "execute_result"
    }
   ],
   "source": [
    "\n",
    "Y_prob = cls.predict_proba(X)\n",
    "Y_prob"
   ]
  },
  {
   "cell_type": "code",
   "execution_count": 9,
   "metadata": {},
   "outputs": [
    {
     "data": {
      "text/plain": [
       "array([0, 0, 0, 1, 1, 0, 1, 0, 1, 1, 1, 0, 1, 1, 0, 1, 0, 0, 1, 1, 0, 1,\n",
       "       0, 0, 1, 1, 1, 1, 0, 0, 1, 1, 0, 0, 0, 0, 1, 1, 0, 0, 1, 0, 1, 0,\n",
       "       0, 0, 1, 1, 1, 1, 1, 1, 1, 0, 0, 0, 1, 1, 1, 1, 1, 0, 0, 0, 0, 0,\n",
       "       1, 0, 1, 1, 0, 1, 1, 1, 1, 1, 1, 1, 0, 1, 1, 1, 1, 0, 1, 1, 0, 1,\n",
       "       1, 0, 1, 1, 0, 1, 1, 1, 1, 1, 0, 1])"
      ]
     },
     "execution_count": 9,
     "metadata": {},
     "output_type": "execute_result"
    }
   ],
   "source": [
    "\n",
    "Y_hat = cls.predict(X)\n",
    "Y_hat"
   ]
  },
  {
   "cell_type": "code",
   "execution_count": 10,
   "metadata": {},
   "outputs": [
    {
     "data": {
      "text/plain": [
       "0.9"
      ]
     },
     "execution_count": 10,
     "metadata": {},
     "output_type": "execute_result"
    }
   ],
   "source": [
    "accuracy_score(Y, Y_hat)"
   ]
  },
  {
   "cell_type": "code",
   "execution_count": 11,
   "metadata": {},
   "outputs": [
    {
     "data": {
      "image/png": "[encoded data removed]",
      "text/plain": [
       "<Figure size 432x288 with 1 Axes>"
      ]
     },
     "metadata": {
      "needs_background": "light"
     },
     "output_type": "display_data"
    }
   ],
   "source": [
    "plot_data(X, Y)\n",
    "plot_surface(cls, X[:, 0], X[:, 1])\n",
    "\n"
   ]
  },
  {
   "cell_type": "code",
   "execution_count": 12,
   "metadata": {},
   "outputs": [],
   "source": [
    "from sklearn.neural_network import MLPClassifier\n",
    "clf = MLPClassifier(hidden_layer_sizes = (20,), max_iter = 10000, activation = 'relu', solver = 'sgd', learning_rate_init = 0.01, learning_rate = 'constant')\n",
    "\n"
   ]
  },
  {
   "cell_type": "code",
   "execution_count": 13,
   "metadata": {},
   "outputs": [
    {
     "data": {
      "text/plain": [
       "MLPClassifier(hidden_layer_sizes=(20,), learning_rate_init=0.01, max_iter=10000,\n",
       "              solver='sgd')"
      ]
     },
     "execution_count": 13,
     "metadata": {},
     "output_type": "execute_result"
    }
   ],
   "source": [
    "clf.fit(X, Y)"
   ]
  },
  {
   "cell_type": "code",
   "execution_count": 14,
   "metadata": {},
   "outputs": [
    {
     "name": "stderr",
     "output_type": "stream",
     "text": [
      "<ipython-input-2-1d8d12161a03>:10: UserWarning: No contour levels were found within the data range.\n",
      "  ax.contour(xx1, xx2, Z, levels=[threshold], colors='black')\n"
     ]
    },
    {
     "data": {
      "image/png": "[encoded data removed]",
      "text/plain": [
       "<Figure size 432x288 with 1 Axes>"
      ]
     },
     "metadata": {
      "needs_background": "light"
     },
     "output_type": "display_data"
    }
   ],
   "source": [
    "plot_data(X, Y)\n",
    "plot_surface(clf, X[:, 0], X[:, 1])\n"
   ]
  },
  {
   "cell_type": "code",
   "execution_count": 15,
   "metadata": {},
   "outputs": [
    {
     "data": {
      "text/plain": [
       "0.6"
      ]
     },
     "execution_count": 15,
     "metadata": {},
     "output_type": "execute_result"
    }
   ],
   "source": [
    "accuracy_score(Y, clf.predict(X))\n"
   ]
  },
  {
   "cell_type": "code",
   "execution_count": null,
   "metadata": {},
   "outputs": [],
   "source": []
  }
 ],
 "metadata": {
  "kernelspec": {
   "display_name": "Python 3",
   "language": "python",
   "name": "python3"
  },
  "language_info": {
   "codemirror_mode": {
    "name": "ipython",
    "version": 3
   },
   "file_extension": ".py",
   "mimetype": "text/x-python",
   "name": "python",
   "nbconvert_exporter": "python",
   "pygments_lexer": "ipython3",
   "version": "3.8.5"
  }
 },
 "nbformat": 4,
 "nbformat_minor": 4
}
